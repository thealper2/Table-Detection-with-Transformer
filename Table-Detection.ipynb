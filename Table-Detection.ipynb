{
 "cells": [
  {
   "cell_type": "code",
   "execution_count": 36,
   "id": "cd1be771",
   "metadata": {},
   "outputs": [],
   "source": [
    "import torch\n",
    "from PIL import Image\n",
    "import numpy as np\n",
    "import requests\n",
    "import random\n",
    "from torchvision.transforms.functional import to_tensor\n",
    "from transformers import TableTransformerForObjectDetection, DetrFeatureExtractor"
   ]
  },
  {
   "cell_type": "code",
   "execution_count": 7,
   "id": "6a0aaa9f",
   "metadata": {},
   "outputs": [
    {
     "name": "stderr",
     "output_type": "stream",
     "text": [
      "/usr/local/lib/python3.11/dist-packages/transformers/models/detr/feature_extraction_detr.py:28: FutureWarning: The class DetrFeatureExtractor is deprecated and will be removed in version 5 of Transformers. Please use DetrImageProcessor instead.\n",
      "  warnings.warn(\n"
     ]
    }
   ],
   "source": [
    "MODEL_NAME = \"microsoft/table-transformer-detection\"\n",
    "model = TableTransformerForObjectDetection.from_pretrained(MODEL_NAME)\n",
    "feature_extractor = DetrFeatureExtractor()"
   ]
  },
  {
   "cell_type": "code",
   "execution_count": null,
   "id": "5a66705f",
   "metadata": {},
   "outputs": [],
   "source": [
    "url = \"\"\n",
    "image = Image.open(requests.get(url, stream=True).raw).convert(\"RGB\")\n",
    "width, height = image.size\n",
    "image.resize((int(width * 0.5), int(height * 0.5)))"
   ]
  },
  {
   "cell_type": "code",
   "execution_count": 29,
   "id": "f115506a",
   "metadata": {},
   "outputs": [],
   "source": [
    "inputs = feature_extractor(image, return_tensors=\"pt\")"
   ]
  },
  {
   "cell_type": "code",
   "execution_count": 30,
   "id": "bd08a49a",
   "metadata": {},
   "outputs": [],
   "source": [
    "with torch.no_grad():\n",
    "    outputs = model(**inputs)"
   ]
  },
  {
   "cell_type": "code",
   "execution_count": 31,
   "id": "45a03cd0",
   "metadata": {},
   "outputs": [],
   "source": [
    "pred_boxes = outputs.pred_boxes"
   ]
  },
  {
   "cell_type": "code",
   "execution_count": 37,
   "id": "7c7bfceb",
   "metadata": {},
   "outputs": [],
   "source": [
    "def generate_random_color():\n",
    "    r = random.uniform(0, 1)\n",
    "    g = random.uniform(0, 1)\n",
    "    b = random.uniform(0, 1)\n",
    "    return [r, g, b]"
   ]
  },
  {
   "cell_type": "code",
   "execution_count": 39,
   "id": "e12f0f45",
   "metadata": {},
   "outputs": [],
   "source": [
    "scores = results['scores'].tolist()\n",
    "labels = results['labels'].tolist()\n",
    "boxes = results['boxes'].tolist()"
   ]
  },
  {
   "cell_type": "code",
   "execution_count": null,
   "id": "4d143641",
   "metadata": {},
   "outputs": [],
   "source": [
    "fig, ax = plt.subplots()\n",
    "ax.imshow(image)\n",
    "\n",
    "for score, box, label in zip(scores, boxes, labels):\n",
    "    xmin, ymin, xmax, ymax = box\n",
    "    color = generate_random_color()\n",
    "    rect = plt.Rectangle((xmin, ymin), xmax - xmin, ymax - ymin, fill=False, edgecolor=color)\n",
    "    ax.add_patch(rect)\n",
    "    text = f\"{model.config.id2label[label]}: {score:.2f}\"\n",
    "    ax.text(xmin, ymin, text, fontsize=8, color=\"white\", verticalalignment=\"top\")\n",
    "    \n",
    "plt.axis(\"off\")\n",
    "plt.show()"
   ]
  },
  {
   "cell_type": "code",
   "execution_count": null,
   "id": "5d43f922",
   "metadata": {},
   "outputs": [],
   "source": []
  }
 ],
 "metadata": {
  "kernelspec": {
   "display_name": "Python 3 (ipykernel)",
   "language": "python",
   "name": "python3"
  },
  "language_info": {
   "codemirror_mode": {
    "name": "ipython",
    "version": 3
   },
   "file_extension": ".py",
   "mimetype": "text/x-python",
   "name": "python",
   "nbconvert_exporter": "python",
   "pygments_lexer": "ipython3",
   "version": "3.11.2"
  }
 },
 "nbformat": 4,
 "nbformat_minor": 5
}
